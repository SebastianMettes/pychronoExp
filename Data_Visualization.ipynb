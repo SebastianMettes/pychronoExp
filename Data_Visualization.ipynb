{
 "metadata": {
  "language_info": {
   "codemirror_mode": {
    "name": "ipython",
    "version": 3
   },
   "file_extension": ".py",
   "mimetype": "text/x-python",
   "name": "python",
   "nbconvert_exporter": "python",
   "pygments_lexer": "ipython3",
   "version": 3
  },
  "orig_nbformat": 2
 },
 "nbformat": 4,
 "nbformat_minor": 2,
 "cells": [
  {
   "cell_type": "code",
   "execution_count": null,
   "metadata": {},
   "outputs": [],
   "source": [
    "\n",
    "def data(path,stepsize):\n",
    "    List = np.genfromtxt(path,delimiter=' ')\n",
    "    zeros = np.zeros(shape = (List.shape[0],1))\n",
    "    for i in range(0,len(zeros)):\n",
    "        zeros[i] = i*stepsize\n",
    "    List = np.concatenate((zeros,List),axis = 1)\n",
    "    return(List)\n",
    "\n",
    "data01 = data(\"/home/sebastian/code/pychronoExp/Results/11.05.2020/11.05.2020/11.16.2020/0.01platip2position.txt\",0.01)\n",
    "data005 = data(\"/home/sebastian/code/pychronoExp/Results/11.05.2020/11.05.2020/11.16.2020/0.005platip2position.txt\",0.005)\n",
    "data001 = data(\"/home/sebastian/code/pychronoExp/Results/11.05.2020/11.05.2020/11.16.2020/0.001platip2position.txt\",0.001)\n",
    "data0005 = data(\"/home/sebastian/code/pychronoExp/Results/11.05.2020/11.05.2020/11.16.2020/0.0005platip2position.txt\",0.0005)\n",
    "data0001 = data(\"/home/sebastian/code/pychronoExp/Results/11.05.2020/11.05.2020/11.16.2020/0.0001platip2position.txt\",0.0001)\n",
    "\n",
    "plt.plot(data01[0],data01[1],data005[0],data005[1],data001[0],data001[1],data0005[0],data0005[1],data0001[0],data0001[1])\n"
   ]
  },
  {
   "cell_type": "code",
   "execution_count": null,
   "metadata": {},
   "outputs": [],
   "source": []
  }
 ]
}