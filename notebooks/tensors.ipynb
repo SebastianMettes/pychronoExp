{
 "metadata": {
  "language_info": {
   "codemirror_mode": {
    "name": "ipython",
    "version": 3
   },
   "file_extension": ".py",
   "mimetype": "text/x-python",
   "name": "python",
   "nbconvert_exporter": "python",
   "pygments_lexer": "ipython3",
   "version": "3.7.9-final"
  },
  "orig_nbformat": 2,
  "kernelspec": {
   "name": "python3",
   "display_name": "Python 3",
   "language": "python"
  }
 },
 "nbformat": 4,
 "nbformat_minor": 2,
 "cells": [
  {
   "cell_type": "code",
   "execution_count": 1,
   "metadata": {},
   "outputs": [],
   "source": [
    "import torch"
   ]
  },
  {
   "cell_type": "code",
   "execution_count": 6,
   "metadata": {},
   "outputs": [],
   "source": [
    "#Generate Random Tensors of shape (20)\n",
    "t1 = torch.randn((20))\n",
    "t2 = torch.randn((20))\n",
    "\n",
    "#Generate a random Tensor of shape (5,20)\n",
    "t3 = torch.randn((5,20))"
   ]
  },
  {
   "cell_type": "code",
   "execution_count": 8,
   "metadata": {},
   "outputs": [
    {
     "output_type": "stream",
     "name": "stdout",
     "text": [
      "tensor([-0.5422,  0.0104,  0.2179,  1.1059,  0.1457,  0.8036,  1.0345, -0.5541,\n        -1.4866, -1.5771, -0.3340, -0.3746, -1.3332, -0.3526, -0.8278,  1.3147,\n        -0.3903,  0.4185,  0.5175,  1.5201])\ntorch.Size([20])\n"
     ]
    }
   ],
   "source": [
    "print(t1)\n",
    "print(t1.shape)"
   ]
  },
  {
   "cell_type": "code",
   "execution_count": 9,
   "metadata": {},
   "outputs": [
    {
     "output_type": "stream",
     "name": "stdout",
     "text": [
      "tensor([[-0.2553,  0.8291, -1.3344, -0.3187,  1.5319, -1.6048,  2.0353,  0.1932,\n         -0.2292,  0.9632,  0.5666, -0.3580, -0.0855, -0.4456,  1.0750, -0.6629,\n          0.0563, -2.2417,  1.4489, -1.5964],\n        [ 0.2675, -2.5275,  0.1397,  0.7678,  0.3051,  0.5952, -1.5549, -0.3113,\n         -0.3295,  1.4019,  0.6127, -0.0245,  1.1107, -0.4126, -0.2311,  0.1467,\n         -0.6905,  1.3500, -1.5478, -0.0666],\n        [-0.9036,  0.1088,  1.2678,  0.8339, -0.5258,  1.0854, -0.0145,  1.3139,\n          1.0564,  1.6738, -1.4645,  1.5064,  0.8006,  0.9045,  1.0082,  1.0998,\n          0.8471,  1.5813, -0.1417,  0.6138],\n        [ 0.4594, -0.4862, -0.3989, -0.3692,  0.0766,  0.0374,  0.0745,  0.1134,\n          1.8277, -0.7541,  1.3352, -0.7857, -1.3563, -0.9239,  0.0736,  1.9235,\n         -0.3558, -0.0691, -0.1670, -0.8722],\n        [-1.2771, -0.6662,  0.2759, -0.0658,  0.3229, -0.1372,  0.3597,  0.3314,\n          1.4316,  0.0428,  0.9302, -1.5403, -0.5974, -0.2549,  0.6494,  0.5190,\n          1.5325,  1.1275,  0.9426, -1.6902]])\ntorch.Size([5, 20])\n"
     ]
    }
   ],
   "source": [
    "print(t3)\n",
    "print(t3.shape)"
   ]
  },
  {
   "cell_type": "code",
   "execution_count": 13,
   "metadata": {},
   "outputs": [
    {
     "output_type": "stream",
     "name": "stdout",
     "text": [
      "torch.Size([2, 20])\ntensor([[-0.5422,  0.0104,  0.2179,  1.1059,  0.1457,  0.8036,  1.0345, -0.5541,\n         -1.4866, -1.5771, -0.3340, -0.3746, -1.3332, -0.3526, -0.8278,  1.3147,\n         -0.3903,  0.4185,  0.5175,  1.5201],\n        [ 1.0670,  0.2668,  0.2898,  0.2134, -0.2757, -0.3325,  0.0323, -0.2526,\n         -0.1073,  0.7418, -1.2041, -0.2978,  1.1410, -0.0285, -0.2061,  1.4629,\n         -1.4443,  0.9508, -0.4435, -1.4361]])\ntensor(True)\ntensor(True)\n"
     ]
    }
   ],
   "source": [
    "#Create a stack of tensors of the same shape\n",
    "batch = torch.stack((t1,t2))\n",
    "#Note that the shape is equal to (2,20) because we stacked two tensors of shape (20)\n",
    "print(batch.shape)\n",
    "print(batch)\n",
    "#torch.all checks if every element of the resulting boolean tensor is true, if even a single one is false then torch.all returns false\n",
    "print(torch.all(batch[0] == t1))\n",
    "print(torch.all(batch[1] == t2))"
   ]
  },
  {
   "cell_type": "code",
   "execution_count": null,
   "metadata": {},
   "outputs": [],
   "source": []
  }
 ]
}